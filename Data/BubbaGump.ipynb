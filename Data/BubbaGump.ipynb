{
 "cells": [
  {
   "cell_type": "markdown",
   "metadata": {},
   "source": [
    "Bubba Gump, initially a local restaurant, became a sucessful company following the sucessful of the “Forest Gump” movie. However after an unexpected rapid growth in a few years, Bubba Gump Shrimp Company has been experiencing a slow growth in the following years and decreasing in sale over the last two years. Decrease in sale means the company is facing a danger of closure some of its units, or even bankrupt if the problem can not fix on time. Bubba Gump is now trying to figure out the way to understand the customer better to be able to boost the sale growth back. "
   ]
  },
  {
   "cell_type": "code",
   "execution_count": 1,
   "metadata": {},
   "outputs": [],
   "source": [
    "import pandas as pd\n",
    "import matplotlib.pyplot as plt\n",
    "import seaborn as sns\n",
    "import os\n",
    "import numpy as np\n",
    "import datetime as dt\n",
    "from sklearn.model_selection import train_test_split, cross_validate, GridSearchCV, learning_curve, RandomizedSearchCV\n",
    "from sklearn.metrics import mean_absolute_error \n",
    "import xgboost as xgb\n",
    "from xgboost.sklearn import XGBClassifier\n",
    "import pandas_profiling\n"
   ]
  },
  {
   "cell_type": "code",
   "execution_count": 2,
   "metadata": {},
   "outputs": [],
   "source": [
    "data_url = \"./DAT220_Final Project Data.xlsx\"\n",
    "data = pd.read_excel(data_url)"
   ]
  },
  {
   "cell_type": "code",
   "execution_count": 3,
   "metadata": {},
   "outputs": [
    {
     "name": "stdout",
     "output_type": "stream",
     "text": [
      "<class 'pandas.core.frame.DataFrame'>\n",
      "RangeIndex: 500 entries, 0 to 499\n",
      "Data columns (total 18 columns):\n",
      " #   Column          Non-Null Count  Dtype \n",
      "---  ------          --------------  ----- \n",
      " 0   first_name      500 non-null    object\n",
      " 1   last_name       500 non-null    object\n",
      " 2   city            500 non-null    object\n",
      " 3   county          500 non-null    object\n",
      " 4   state           500 non-null    object\n",
      " 5   zip             500 non-null    int64 \n",
      " 6   ZIP_2           500 non-null    int64 \n",
      " 7   Restaurant      500 non-null    int64 \n",
      " 8   RES_VISITS      500 non-null    int64 \n",
      " 9   WEB_PURCH_YN    500 non-null    int64 \n",
      " 10  Webstore_Spend  500 non-null    int64 \n",
      " 11  WEB_VISITS      500 non-null    int64 \n",
      " 12  THIRD_SPEND     500 non-null    int64 \n",
      " 13  THIRD_VISITS    500 non-null    int64 \n",
      " 14  Age             500 non-null    int64 \n",
      " 15  Married_YN      500 non-null    object\n",
      " 16  MARR_BIN        500 non-null    int64 \n",
      " 17  Income          500 non-null    int64 \n",
      "dtypes: int64(12), object(6)\n",
      "memory usage: 70.4+ KB\n"
     ]
    }
   ],
   "source": [
    "data.info()"
   ]
  },
  {
   "cell_type": "markdown",
   "metadata": {},
   "source": [
    "We got our first problem here. Wrong format for a few columns. We need to change it to a right type."
   ]
  },
  {
   "cell_type": "code",
   "execution_count": 4,
   "metadata": {},
   "outputs": [],
   "source": [
    "data = data.astype({'zip': 'object', 'ZIP_2': 'object', 'Restaurant': 'object', 'WEB_PURCH_YN': 'boolean', 'MARR_BIN': 'boolean'})"
   ]
  },
  {
   "cell_type": "code",
   "execution_count": 5,
   "metadata": {},
   "outputs": [
    {
     "name": "stdout",
     "output_type": "stream",
     "text": [
      "<class 'pandas.core.frame.DataFrame'>\n",
      "RangeIndex: 500 entries, 0 to 499\n",
      "Data columns (total 18 columns):\n",
      " #   Column          Non-Null Count  Dtype  \n",
      "---  ------          --------------  -----  \n",
      " 0   first_name      500 non-null    object \n",
      " 1   last_name       500 non-null    object \n",
      " 2   city            500 non-null    object \n",
      " 3   county          500 non-null    object \n",
      " 4   state           500 non-null    object \n",
      " 5   zip             500 non-null    object \n",
      " 6   ZIP_2           500 non-null    object \n",
      " 7   Restaurant      500 non-null    object \n",
      " 8   RES_VISITS      500 non-null    int64  \n",
      " 9   WEB_PURCH_YN    500 non-null    boolean\n",
      " 10  Webstore_Spend  500 non-null    int64  \n",
      " 11  WEB_VISITS      500 non-null    int64  \n",
      " 12  THIRD_SPEND     500 non-null    int64  \n",
      " 13  THIRD_VISITS    500 non-null    int64  \n",
      " 14  Age             500 non-null    int64  \n",
      " 15  Married_YN      500 non-null    object \n",
      " 16  MARR_BIN        500 non-null    boolean\n",
      " 17  Income          500 non-null    int64  \n",
      "dtypes: boolean(2), int64(7), object(9)\n",
      "memory usage: 64.6+ KB\n"
     ]
    }
   ],
   "source": [
    "data.info()"
   ]
  },
  {
   "cell_type": "code",
   "execution_count": 6,
   "metadata": {},
   "outputs": [
    {
     "data": {
      "text/plain": [
       "51"
      ]
     },
     "execution_count": 6,
     "metadata": {},
     "output_type": "execute_result"
    }
   ],
   "source": [
    "np.count_nonzero(data.Restaurant.unique())"
   ]
  },
  {
   "cell_type": "code",
   "execution_count": 7,
   "metadata": {},
   "outputs": [
    {
     "data": {
      "text/plain": [
       "451"
      ]
     },
     "execution_count": 7,
     "metadata": {},
     "output_type": "execute_result"
    }
   ],
   "source": [
    "np.count_nonzero(data.zip.unique())"
   ]
  },
  {
   "cell_type": "code",
   "execution_count": 8,
   "metadata": {},
   "outputs": [
    {
     "data": {
      "text/html": [
       "<div>\n",
       "<style scoped>\n",
       "    .dataframe tbody tr th:only-of-type {\n",
       "        vertical-align: middle;\n",
       "    }\n",
       "\n",
       "    .dataframe tbody tr th {\n",
       "        vertical-align: top;\n",
       "    }\n",
       "\n",
       "    .dataframe thead th {\n",
       "        text-align: right;\n",
       "    }\n",
       "</style>\n",
       "<table border=\"1\" class=\"dataframe\">\n",
       "  <thead>\n",
       "    <tr style=\"text-align: right;\">\n",
       "      <th></th>\n",
       "      <th>RES_VISITS</th>\n",
       "      <th>Webstore_Spend</th>\n",
       "      <th>WEB_VISITS</th>\n",
       "      <th>THIRD_SPEND</th>\n",
       "      <th>THIRD_VISITS</th>\n",
       "      <th>Age</th>\n",
       "      <th>Income</th>\n",
       "    </tr>\n",
       "  </thead>\n",
       "  <tbody>\n",
       "    <tr>\n",
       "      <th>count</th>\n",
       "      <td>500.000000</td>\n",
       "      <td>500.000000</td>\n",
       "      <td>500.000000</td>\n",
       "      <td>500.000000</td>\n",
       "      <td>500.000000</td>\n",
       "      <td>500.00000</td>\n",
       "      <td>500.000000</td>\n",
       "    </tr>\n",
       "    <tr>\n",
       "      <th>mean</th>\n",
       "      <td>1.354000</td>\n",
       "      <td>40.474000</td>\n",
       "      <td>0.746000</td>\n",
       "      <td>20.226000</td>\n",
       "      <td>0.614000</td>\n",
       "      <td>42.49800</td>\n",
       "      <td>59.846000</td>\n",
       "    </tr>\n",
       "    <tr>\n",
       "      <th>std</th>\n",
       "      <td>0.630459</td>\n",
       "      <td>87.873163</td>\n",
       "      <td>0.794195</td>\n",
       "      <td>43.841431</td>\n",
       "      <td>0.738983</td>\n",
       "      <td>18.10651</td>\n",
       "      <td>20.799026</td>\n",
       "    </tr>\n",
       "    <tr>\n",
       "      <th>min</th>\n",
       "      <td>1.000000</td>\n",
       "      <td>0.000000</td>\n",
       "      <td>0.000000</td>\n",
       "      <td>0.000000</td>\n",
       "      <td>0.000000</td>\n",
       "      <td>19.00000</td>\n",
       "      <td>23.000000</td>\n",
       "    </tr>\n",
       "    <tr>\n",
       "      <th>25%</th>\n",
       "      <td>1.000000</td>\n",
       "      <td>0.000000</td>\n",
       "      <td>0.000000</td>\n",
       "      <td>0.000000</td>\n",
       "      <td>0.000000</td>\n",
       "      <td>28.00000</td>\n",
       "      <td>44.000000</td>\n",
       "    </tr>\n",
       "    <tr>\n",
       "      <th>50%</th>\n",
       "      <td>1.000000</td>\n",
       "      <td>0.000000</td>\n",
       "      <td>1.000000</td>\n",
       "      <td>0.000000</td>\n",
       "      <td>0.000000</td>\n",
       "      <td>38.00000</td>\n",
       "      <td>57.000000</td>\n",
       "    </tr>\n",
       "    <tr>\n",
       "      <th>75%</th>\n",
       "      <td>2.000000</td>\n",
       "      <td>32.000000</td>\n",
       "      <td>1.000000</td>\n",
       "      <td>19.000000</td>\n",
       "      <td>1.000000</td>\n",
       "      <td>57.00000</td>\n",
       "      <td>74.250000</td>\n",
       "    </tr>\n",
       "    <tr>\n",
       "      <th>max</th>\n",
       "      <td>3.000000</td>\n",
       "      <td>496.000000</td>\n",
       "      <td>3.000000</td>\n",
       "      <td>210.000000</td>\n",
       "      <td>3.000000</td>\n",
       "      <td>81.00000</td>\n",
       "      <td>116.000000</td>\n",
       "    </tr>\n",
       "  </tbody>\n",
       "</table>\n",
       "</div>"
      ],
      "text/plain": [
       "       RES_VISITS  Webstore_Spend  WEB_VISITS  THIRD_SPEND  THIRD_VISITS  \\\n",
       "count  500.000000      500.000000  500.000000   500.000000    500.000000   \n",
       "mean     1.354000       40.474000    0.746000    20.226000      0.614000   \n",
       "std      0.630459       87.873163    0.794195    43.841431      0.738983   \n",
       "min      1.000000        0.000000    0.000000     0.000000      0.000000   \n",
       "25%      1.000000        0.000000    0.000000     0.000000      0.000000   \n",
       "50%      1.000000        0.000000    1.000000     0.000000      0.000000   \n",
       "75%      2.000000       32.000000    1.000000    19.000000      1.000000   \n",
       "max      3.000000      496.000000    3.000000   210.000000      3.000000   \n",
       "\n",
       "             Age      Income  \n",
       "count  500.00000  500.000000  \n",
       "mean    42.49800   59.846000  \n",
       "std     18.10651   20.799026  \n",
       "min     19.00000   23.000000  \n",
       "25%     28.00000   44.000000  \n",
       "50%     38.00000   57.000000  \n",
       "75%     57.00000   74.250000  \n",
       "max     81.00000  116.000000  "
      ]
     },
     "execution_count": 8,
     "metadata": {},
     "output_type": "execute_result"
    }
   ],
   "source": [
    "data.describe()"
   ]
  },
  {
   "cell_type": "markdown",
   "metadata": {},
   "source": [
    "A few things here:\n",
    "- Data is collected at 51 Restaurants and customers from 451 zipcodes. Unfortunately we don't have the restaurant zipcode/state to compare.\n",
    "- Max restarant visits is 3, and max third visits is 3. We can assume that customers with RES_VISITS < 3 would have THIRD_VISITS and THIRD_SPEND = 0. If THIRD_VISITS > 1 then we assume that they came back 4 and 5 times (THIRD_VISITS = 3).\n",
    "- At 50 percentile Webstore_Spend is 0 and 25 percentile WEB_VISITS is 0. This means the survey was conducted in restarant (RES_VISITS min = 1)."
   ]
  },
  {
   "cell_type": "code",
   "execution_count": 9,
   "metadata": {},
   "outputs": [
    {
     "data": {
      "text/plain": [
       "(42, 244, 126)"
      ]
     },
     "execution_count": 9,
     "metadata": {},
     "output_type": "execute_result"
    }
   ],
   "source": [
    "(data['RES_VISITS'][data['RES_VISITS'] == 3].count(), data['THIRD_VISITS'][data['THIRD_VISITS'] > 0].count(), data['THIRD_SPEND'][data['THIRD_SPEND'] > 0].count())"
   ]
  },
  {
   "cell_type": "code",
   "execution_count": 10,
   "metadata": {},
   "outputs": [
    {
     "data": {
      "text/plain": [
       "500"
      ]
     },
     "execution_count": 10,
     "metadata": {},
     "output_type": "execute_result"
    }
   ],
   "source": [
    "data['fullname'] = data['first_name'] + '' + data['last_name']\n",
    "np.count_nonzero(data['fullname'].unique())"
   ]
  },
  {
   "cell_type": "markdown",
   "metadata": {},
   "source": [
    "Total of 42 customers visit the restaurant three times (and up), but only 244 third visit and 126 third spend. Considering this is 500 different customers, there is probably something wrong in this data. Unfortunately we have no way to clarify this."
   ]
  },
  {
   "cell_type": "code",
   "execution_count": 11,
   "metadata": {},
   "outputs": [
    {
     "data": {
      "text/html": [
       "<div>\n",
       "<style scoped>\n",
       "    .dataframe tbody tr th:only-of-type {\n",
       "        vertical-align: middle;\n",
       "    }\n",
       "\n",
       "    .dataframe tbody tr th {\n",
       "        vertical-align: top;\n",
       "    }\n",
       "\n",
       "    .dataframe thead th {\n",
       "        text-align: right;\n",
       "    }\n",
       "</style>\n",
       "<table border=\"1\" class=\"dataframe\">\n",
       "  <thead>\n",
       "    <tr style=\"text-align: right;\">\n",
       "      <th></th>\n",
       "      <th>first_name</th>\n",
       "      <th>last_name</th>\n",
       "      <th>city</th>\n",
       "      <th>county</th>\n",
       "      <th>state</th>\n",
       "      <th>zip</th>\n",
       "      <th>ZIP_2</th>\n",
       "      <th>Restaurant</th>\n",
       "      <th>RES_VISITS</th>\n",
       "      <th>WEB_PURCH_YN</th>\n",
       "      <th>Webstore_Spend</th>\n",
       "      <th>WEB_VISITS</th>\n",
       "      <th>THIRD_SPEND</th>\n",
       "      <th>THIRD_VISITS</th>\n",
       "      <th>Age</th>\n",
       "      <th>Married_YN</th>\n",
       "      <th>MARR_BIN</th>\n",
       "      <th>Income</th>\n",
       "      <th>fullname</th>\n",
       "    </tr>\n",
       "  </thead>\n",
       "  <tbody>\n",
       "    <tr>\n",
       "      <th>0</th>\n",
       "      <td>Lenna</td>\n",
       "      <td>Paprocki</td>\n",
       "      <td>Anchorage</td>\n",
       "      <td>Anchorage</td>\n",
       "      <td>AK</td>\n",
       "      <td>99501</td>\n",
       "      <td>99</td>\n",
       "      <td>155</td>\n",
       "      <td>2</td>\n",
       "      <td>True</td>\n",
       "      <td>191</td>\n",
       "      <td>3</td>\n",
       "      <td>63</td>\n",
       "      <td>1</td>\n",
       "      <td>28</td>\n",
       "      <td>N</td>\n",
       "      <td>False</td>\n",
       "      <td>42</td>\n",
       "      <td>LennaPaprocki</td>\n",
       "    </tr>\n",
       "    <tr>\n",
       "      <th>1</th>\n",
       "      <td>Roxane</td>\n",
       "      <td>Campain</td>\n",
       "      <td>Fairbanks</td>\n",
       "      <td>Fairbanks North Star</td>\n",
       "      <td>AK</td>\n",
       "      <td>99708</td>\n",
       "      <td>99</td>\n",
       "      <td>60</td>\n",
       "      <td>1</td>\n",
       "      <td>False</td>\n",
       "      <td>0</td>\n",
       "      <td>1</td>\n",
       "      <td>0</td>\n",
       "      <td>0</td>\n",
       "      <td>49</td>\n",
       "      <td>Y</td>\n",
       "      <td>True</td>\n",
       "      <td>112</td>\n",
       "      <td>RoxaneCampain</td>\n",
       "    </tr>\n",
       "    <tr>\n",
       "      <th>2</th>\n",
       "      <td>Erick</td>\n",
       "      <td>Ferencz</td>\n",
       "      <td>Fairbanks</td>\n",
       "      <td>Fairbanks North Star</td>\n",
       "      <td>AK</td>\n",
       "      <td>99712</td>\n",
       "      <td>99</td>\n",
       "      <td>155</td>\n",
       "      <td>2</td>\n",
       "      <td>False</td>\n",
       "      <td>0</td>\n",
       "      <td>0</td>\n",
       "      <td>0</td>\n",
       "      <td>0</td>\n",
       "      <td>44</td>\n",
       "      <td>Y</td>\n",
       "      <td>True</td>\n",
       "      <td>74</td>\n",
       "      <td>ErickFerencz</td>\n",
       "    </tr>\n",
       "    <tr>\n",
       "      <th>3</th>\n",
       "      <td>Penney</td>\n",
       "      <td>Weight</td>\n",
       "      <td>Anchorage</td>\n",
       "      <td>Anchorage</td>\n",
       "      <td>AK</td>\n",
       "      <td>99515</td>\n",
       "      <td>99</td>\n",
       "      <td>90</td>\n",
       "      <td>1</td>\n",
       "      <td>False</td>\n",
       "      <td>0</td>\n",
       "      <td>0</td>\n",
       "      <td>26</td>\n",
       "      <td>1</td>\n",
       "      <td>19</td>\n",
       "      <td>N</td>\n",
       "      <td>False</td>\n",
       "      <td>47</td>\n",
       "      <td>PenneyWeight</td>\n",
       "    </tr>\n",
       "    <tr>\n",
       "      <th>4</th>\n",
       "      <td>Wilda</td>\n",
       "      <td>Giguere</td>\n",
       "      <td>Anchorage</td>\n",
       "      <td>Anchorage</td>\n",
       "      <td>AK</td>\n",
       "      <td>99501</td>\n",
       "      <td>99</td>\n",
       "      <td>131</td>\n",
       "      <td>3</td>\n",
       "      <td>True</td>\n",
       "      <td>223</td>\n",
       "      <td>2</td>\n",
       "      <td>0</td>\n",
       "      <td>0</td>\n",
       "      <td>25</td>\n",
       "      <td>Y</td>\n",
       "      <td>True</td>\n",
       "      <td>55</td>\n",
       "      <td>WildaGiguere</td>\n",
       "    </tr>\n",
       "  </tbody>\n",
       "</table>\n",
       "</div>"
      ],
      "text/plain": [
       "  first_name last_name       city                county state    zip ZIP_2  \\\n",
       "0      Lenna  Paprocki  Anchorage             Anchorage    AK  99501    99   \n",
       "1     Roxane   Campain  Fairbanks  Fairbanks North Star    AK  99708    99   \n",
       "2      Erick   Ferencz  Fairbanks  Fairbanks North Star    AK  99712    99   \n",
       "3     Penney    Weight  Anchorage             Anchorage    AK  99515    99   \n",
       "4      Wilda   Giguere  Anchorage             Anchorage    AK  99501    99   \n",
       "\n",
       "  Restaurant  RES_VISITS  WEB_PURCH_YN  Webstore_Spend  WEB_VISITS  \\\n",
       "0        155           2          True             191           3   \n",
       "1         60           1         False               0           1   \n",
       "2        155           2         False               0           0   \n",
       "3         90           1         False               0           0   \n",
       "4        131           3          True             223           2   \n",
       "\n",
       "   THIRD_SPEND  THIRD_VISITS  Age Married_YN  MARR_BIN  Income       fullname  \n",
       "0           63             1   28          N     False      42  LennaPaprocki  \n",
       "1            0             0   49          Y      True     112  RoxaneCampain  \n",
       "2            0             0   44          Y      True      74   ErickFerencz  \n",
       "3           26             1   19          N     False      47   PenneyWeight  \n",
       "4            0             0   25          Y      True      55   WildaGiguere  "
      ]
     },
     "execution_count": 11,
     "metadata": {},
     "output_type": "execute_result"
    }
   ],
   "source": [
    "data.head()"
   ]
  },
  {
   "cell_type": "code",
   "execution_count": 12,
   "metadata": {},
   "outputs": [
    {
     "data": {
      "text/plain": [
       "190     1581\n",
       "192     1602\n",
       "186     1602\n",
       "195     1603\n",
       "189     1742\n",
       "       ...  \n",
       "4      99501\n",
       "0      99501\n",
       "3      99515\n",
       "1      99708\n",
       "2      99712\n",
       "Name: zip, Length: 500, dtype: object"
      ]
     },
     "execution_count": 12,
     "metadata": {},
     "output_type": "execute_result"
    }
   ],
   "source": [
    "data.zip.sort_values()"
   ]
  },
  {
   "cell_type": "markdown",
   "metadata": {},
   "source": [
    "Now the zipcode was in the wrong format so we need to fix it."
   ]
  },
  {
   "cell_type": "code",
   "execution_count": 13,
   "metadata": {},
   "outputs": [],
   "source": [
    "data.zip = data['zip'].apply(lambda x: str(x))"
   ]
  },
  {
   "cell_type": "code",
   "execution_count": 14,
   "metadata": {},
   "outputs": [],
   "source": [
    "data.zip = data.zip.apply(lambda x: '0' + x if len(x) < 5 else x)"
   ]
  },
  {
   "cell_type": "code",
   "execution_count": 15,
   "metadata": {},
   "outputs": [
    {
     "data": {
      "text/plain": [
       "190    01581\n",
       "192    01602\n",
       "186    01602\n",
       "195    01603\n",
       "189    01742\n",
       "191    01887\n",
       "185    02128\n",
       "196    02138\n",
       "187    02210\n",
       "188    02346\n",
       "194    02745\n",
       "193    02760\n",
       "421    02903\n",
       "420    02904\n",
       "423    02906\n",
       "419    02909\n",
       "422    02919\n",
       "258    03865\n",
       "214    04401\n",
       "216    04401\n",
       "215    04864\n",
       "98     06473\n",
       "96     06511\n",
       "97     06515\n",
       "100    06610\n",
       "99     06854\n",
       "294    07003\n",
       "288    07004\n",
       "278    07009\n",
       "301    07011\n",
       "304    07029\n",
       "309    07032\n",
       "295    07032\n",
       "289    07039\n",
       "269    07050\n",
       "292    07055\n",
       "273    07062\n",
       "293    07071\n",
       "302    07087\n",
       "266    07104\n",
       "Name: zip, dtype: object"
      ]
     },
     "execution_count": 15,
     "metadata": {},
     "output_type": "execute_result"
    }
   ],
   "source": [
    "data.zip.sort_values().head(40)"
   ]
  },
  {
   "cell_type": "markdown",
   "metadata": {},
   "source": [
    "Looks good now. Let's see if we have any missing data."
   ]
  },
  {
   "cell_type": "code",
   "execution_count": 16,
   "metadata": {},
   "outputs": [
    {
     "data": {
      "text/html": [
       "<div>\n",
       "<style scoped>\n",
       "    .dataframe tbody tr th:only-of-type {\n",
       "        vertical-align: middle;\n",
       "    }\n",
       "\n",
       "    .dataframe tbody tr th {\n",
       "        vertical-align: top;\n",
       "    }\n",
       "\n",
       "    .dataframe thead th {\n",
       "        text-align: right;\n",
       "    }\n",
       "</style>\n",
       "<table border=\"1\" class=\"dataframe\">\n",
       "  <thead>\n",
       "    <tr style=\"text-align: right;\">\n",
       "      <th></th>\n",
       "      <th>count</th>\n",
       "      <th>%</th>\n",
       "    </tr>\n",
       "  </thead>\n",
       "  <tbody>\n",
       "    <tr>\n",
       "      <th>first_name</th>\n",
       "      <td>0</td>\n",
       "      <td>0.0</td>\n",
       "    </tr>\n",
       "    <tr>\n",
       "      <th>MARR_BIN</th>\n",
       "      <td>0</td>\n",
       "      <td>0.0</td>\n",
       "    </tr>\n",
       "    <tr>\n",
       "      <th>Married_YN</th>\n",
       "      <td>0</td>\n",
       "      <td>0.0</td>\n",
       "    </tr>\n",
       "    <tr>\n",
       "      <th>Age</th>\n",
       "      <td>0</td>\n",
       "      <td>0.0</td>\n",
       "    </tr>\n",
       "    <tr>\n",
       "      <th>THIRD_VISITS</th>\n",
       "      <td>0</td>\n",
       "      <td>0.0</td>\n",
       "    </tr>\n",
       "    <tr>\n",
       "      <th>THIRD_SPEND</th>\n",
       "      <td>0</td>\n",
       "      <td>0.0</td>\n",
       "    </tr>\n",
       "    <tr>\n",
       "      <th>WEB_VISITS</th>\n",
       "      <td>0</td>\n",
       "      <td>0.0</td>\n",
       "    </tr>\n",
       "    <tr>\n",
       "      <th>Webstore_Spend</th>\n",
       "      <td>0</td>\n",
       "      <td>0.0</td>\n",
       "    </tr>\n",
       "    <tr>\n",
       "      <th>Income</th>\n",
       "      <td>0</td>\n",
       "      <td>0.0</td>\n",
       "    </tr>\n",
       "    <tr>\n",
       "      <th>WEB_PURCH_YN</th>\n",
       "      <td>0</td>\n",
       "      <td>0.0</td>\n",
       "    </tr>\n",
       "    <tr>\n",
       "      <th>Restaurant</th>\n",
       "      <td>0</td>\n",
       "      <td>0.0</td>\n",
       "    </tr>\n",
       "    <tr>\n",
       "      <th>ZIP_2</th>\n",
       "      <td>0</td>\n",
       "      <td>0.0</td>\n",
       "    </tr>\n",
       "    <tr>\n",
       "      <th>zip</th>\n",
       "      <td>0</td>\n",
       "      <td>0.0</td>\n",
       "    </tr>\n",
       "    <tr>\n",
       "      <th>state</th>\n",
       "      <td>0</td>\n",
       "      <td>0.0</td>\n",
       "    </tr>\n",
       "    <tr>\n",
       "      <th>county</th>\n",
       "      <td>0</td>\n",
       "      <td>0.0</td>\n",
       "    </tr>\n",
       "    <tr>\n",
       "      <th>city</th>\n",
       "      <td>0</td>\n",
       "      <td>0.0</td>\n",
       "    </tr>\n",
       "    <tr>\n",
       "      <th>last_name</th>\n",
       "      <td>0</td>\n",
       "      <td>0.0</td>\n",
       "    </tr>\n",
       "    <tr>\n",
       "      <th>RES_VISITS</th>\n",
       "      <td>0</td>\n",
       "      <td>0.0</td>\n",
       "    </tr>\n",
       "    <tr>\n",
       "      <th>fullname</th>\n",
       "      <td>0</td>\n",
       "      <td>0.0</td>\n",
       "    </tr>\n",
       "  </tbody>\n",
       "</table>\n",
       "</div>"
      ],
      "text/plain": [
       "                count    %\n",
       "first_name          0  0.0\n",
       "MARR_BIN            0  0.0\n",
       "Married_YN          0  0.0\n",
       "Age                 0  0.0\n",
       "THIRD_VISITS        0  0.0\n",
       "THIRD_SPEND         0  0.0\n",
       "WEB_VISITS          0  0.0\n",
       "Webstore_Spend      0  0.0\n",
       "Income              0  0.0\n",
       "WEB_PURCH_YN        0  0.0\n",
       "Restaurant          0  0.0\n",
       "ZIP_2               0  0.0\n",
       "zip                 0  0.0\n",
       "state               0  0.0\n",
       "county              0  0.0\n",
       "city                0  0.0\n",
       "last_name           0  0.0\n",
       "RES_VISITS          0  0.0\n",
       "fullname            0  0.0"
      ]
     },
     "execution_count": 16,
     "metadata": {},
     "output_type": "execute_result"
    }
   ],
   "source": [
    "missing = pd.concat([data.isnull().sum(), 100 * data.isnull().mean()], axis=1)\n",
    "missing.columns = (['count', '%'])\n",
    "missing.sort_values('%')"
   ]
  },
  {
   "cell_type": "markdown",
   "metadata": {},
   "source": [
    "This is perfect! No missing data saves tons of time!"
   ]
  },
  {
   "cell_type": "markdown",
   "metadata": {},
   "source": [
    "Let's drop some columns since they are not really necessary for the analysis."
   ]
  },
  {
   "cell_type": "code",
   "execution_count": 17,
   "metadata": {},
   "outputs": [],
   "source": [
    "cleaned_data = data.drop(columns=['Restaurant', 'ZIP_2', 'Married_YN', 'first_name', 'last_name', 'fullname'])"
   ]
  },
  {
   "cell_type": "code",
   "execution_count": 18,
   "metadata": {},
   "outputs": [
    {
     "name": "stdout",
     "output_type": "stream",
     "text": [
      "<class 'pandas.core.frame.DataFrame'>\n",
      "RangeIndex: 500 entries, 0 to 499\n",
      "Data columns (total 13 columns):\n",
      " #   Column          Non-Null Count  Dtype  \n",
      "---  ------          --------------  -----  \n",
      " 0   city            500 non-null    object \n",
      " 1   county          500 non-null    object \n",
      " 2   state           500 non-null    object \n",
      " 3   zip             500 non-null    object \n",
      " 4   RES_VISITS      500 non-null    int64  \n",
      " 5   WEB_PURCH_YN    500 non-null    boolean\n",
      " 6   Webstore_Spend  500 non-null    int64  \n",
      " 7   WEB_VISITS      500 non-null    int64  \n",
      " 8   THIRD_SPEND     500 non-null    int64  \n",
      " 9   THIRD_VISITS    500 non-null    int64  \n",
      " 10  Age             500 non-null    int64  \n",
      " 11  MARR_BIN        500 non-null    boolean\n",
      " 12  Income          500 non-null    int64  \n",
      "dtypes: boolean(2), int64(7), object(4)\n",
      "memory usage: 45.0+ KB\n"
     ]
    }
   ],
   "source": [
    "cleaned_data.info()"
   ]
  },
  {
   "cell_type": "code",
   "execution_count": 19,
   "metadata": {},
   "outputs": [
    {
     "data": {
      "image/png": "[encoded data removed]",
      "text/plain": [
       "<Figure size 421.25x360 with 1 Axes>"
      ]
     },
     "metadata": {
      "needs_background": "light"
     },
     "output_type": "display_data"
    },
    {
     "data": {
      "image/png": "[encoded data removed]",
      "text/plain": [
       "<Figure size 421.25x360 with 1 Axes>"
      ]
     },
     "metadata": {
      "needs_background": "light"
     },
     "output_type": "display_data"
    }
   ],
   "source": [
    "sns.lmplot(y='Webstore_Spend', x='RES_VISITS', data=cleaned_data, hue='MARR_BIN')\n",
    "sns.lmplot(y='Webstore_Spend', x='WEB_VISITS', data=cleaned_data, hue='MARR_BIN');"
   ]
  },
  {
   "cell_type": "markdown",
   "metadata": {},
   "source": [
    "From the plots, we can see that customers spend more on the webstore when they visit the restaurant and website more. There is no different between marriage and un-marriage customers."
   ]
  },
  {
   "cell_type": "markdown",
   "metadata": {},
   "source": [
    "Let's dig a little deeper in our customer's demographic."
   ]
  },
  {
   "cell_type": "code",
   "execution_count": 20,
   "metadata": {},
   "outputs": [
    {
     "data": {
      "image/png": "[encoded data removed]",
      "text/plain": [
       "<Figure size 1080x576 with 2 Axes>"
      ]
     },
     "metadata": {
      "needs_background": "light"
     },
     "output_type": "display_data"
    }
   ],
   "source": [
    "fig, axs = plt.subplots(1, 2, figsize=(15, 8))\n",
    "sns.boxplot(x='RES_VISITS', y='Income', data=cleaned_data, ax=axs[0])\n",
    "sns.boxplot(x='THIRD_VISITS', y='Income', data=cleaned_data, ax=axs[1]);"
   ]
  },
  {
   "cell_type": "markdown",
   "metadata": {},
   "source": [
    "Average income seems to be the same for first time customers and previous customers. Looks like the one that keep coming back to us are the middle class with income around 45-75k/year. As Bubba Gump is a casual restaurant, it makes sense that the customers are not those making very high income (usually go to high end restarant) or too low income (might be attracted by fastfood restaurant/home cooking more)."
   ]
  },
  {
   "cell_type": "markdown",
   "metadata": {},
   "source": [
    "What about the age of our customer?"
   ]
  },
  {
   "cell_type": "code",
   "execution_count": 21,
   "metadata": {},
   "outputs": [
    {
     "data": {
      "image/png": "[encoded data removed]",
      "text/plain": [
       "<Figure size 1080x576 with 2 Axes>"
      ]
     },
     "metadata": {
      "needs_background": "light"
     },
     "output_type": "display_data"
    }
   ],
   "source": [
    "fig, axs = plt.subplots(1, 2, figsize=(15, 8))\n",
    "sns.boxplot(x='RES_VISITS', y='Age', data=cleaned_data, ax=axs[0])\n",
    "sns.boxplot(x='THIRD_VISITS', y='Age', data=cleaned_data, ax=axs[1]);"
   ]
  },
  {
   "cell_type": "markdown",
   "metadata": {},
   "source": [
    "So our customers mainly are adults from 28-60 years old. Those are the age when people are working full-time and have energy/time/friend to go out. "
   ]
  },
  {
   "cell_type": "markdown",
   "metadata": {},
   "source": [
    "Marrial Status?"
   ]
  },
  {
   "cell_type": "code",
   "execution_count": 22,
   "metadata": {},
   "outputs": [
    {
     "data": {
      "image/png": "[encoded data removed]",
      "text/plain": [
       "<Figure size 1080x576 with 2 Axes>"
      ]
     },
     "metadata": {
      "needs_background": "light"
     },
     "output_type": "display_data"
    }
   ],
   "source": [
    "fig, axs = plt.subplots(1, 2, figsize=(15, 8))\n",
    "sns.boxplot(x='MARR_BIN', y='Age', data=cleaned_data, ax=axs[0])\n",
    "sns.boxplot(x='MARR_BIN', y='Income', data=cleaned_data, ax=axs[1]);"
   ]
  },
  {
   "cell_type": "code",
   "execution_count": 23,
   "metadata": {},
   "outputs": [
    {
     "data": {
      "text/plain": [
       "0.606"
      ]
     },
     "execution_count": 23,
     "metadata": {},
     "output_type": "execute_result"
    }
   ],
   "source": [
    "np.sum(cleaned_data.MARR_BIN == True)/len(cleaned_data.MARR_BIN)"
   ]
  },
  {
   "cell_type": "markdown",
   "metadata": {},
   "source": [
    "Eventhough married customers make up 60% of the data, there is not really any different in age or income. Interesting thing here is there are more unmarried old adult come to the restaurants, would it be because without family, they have more time to hangout (and dine out)?"
   ]
  },
  {
   "cell_type": "markdown",
   "metadata": {},
   "source": [
    "What about state?"
   ]
  },
  {
   "cell_type": "code",
   "execution_count": 24,
   "metadata": {},
   "outputs": [
    {
     "data": {
      "text/html": [
       "<div>\n",
       "<style scoped>\n",
       "    .dataframe tbody tr th:only-of-type {\n",
       "        vertical-align: middle;\n",
       "    }\n",
       "\n",
       "    .dataframe tbody tr th {\n",
       "        vertical-align: top;\n",
       "    }\n",
       "\n",
       "    .dataframe thead th {\n",
       "        text-align: right;\n",
       "    }\n",
       "</style>\n",
       "<table border=\"1\" class=\"dataframe\">\n",
       "  <thead>\n",
       "    <tr style=\"text-align: right;\">\n",
       "      <th></th>\n",
       "      <th>state</th>\n",
       "      <th>Restaurant_visit</th>\n",
       "      <th>Web_visit</th>\n",
       "      <th>Web_purchase</th>\n",
       "      <th>Webstore_spend</th>\n",
       "      <th>Third_visit</th>\n",
       "      <th>Third_visit_spend</th>\n",
       "    </tr>\n",
       "  </thead>\n",
       "  <tbody>\n",
       "    <tr>\n",
       "      <th>0</th>\n",
       "      <td>CA</td>\n",
       "      <td>89</td>\n",
       "      <td>51</td>\n",
       "      <td>31</td>\n",
       "      <td>3186</td>\n",
       "      <td>46</td>\n",
       "      <td>1424</td>\n",
       "    </tr>\n",
       "    <tr>\n",
       "      <th>1</th>\n",
       "      <td>NJ</td>\n",
       "      <td>82</td>\n",
       "      <td>52</td>\n",
       "      <td>24</td>\n",
       "      <td>4051</td>\n",
       "      <td>22</td>\n",
       "      <td>534</td>\n",
       "    </tr>\n",
       "    <tr>\n",
       "      <th>2</th>\n",
       "      <td>NY</td>\n",
       "      <td>59</td>\n",
       "      <td>35</td>\n",
       "      <td>21</td>\n",
       "      <td>3114</td>\n",
       "      <td>30</td>\n",
       "      <td>966</td>\n",
       "    </tr>\n",
       "    <tr>\n",
       "      <th>3</th>\n",
       "      <td>FL</td>\n",
       "      <td>46</td>\n",
       "      <td>21</td>\n",
       "      <td>9</td>\n",
       "      <td>1203</td>\n",
       "      <td>19</td>\n",
       "      <td>615</td>\n",
       "    </tr>\n",
       "    <tr>\n",
       "      <th>4</th>\n",
       "      <td>TX</td>\n",
       "      <td>40</td>\n",
       "      <td>20</td>\n",
       "      <td>12</td>\n",
       "      <td>727</td>\n",
       "      <td>24</td>\n",
       "      <td>780</td>\n",
       "    </tr>\n",
       "  </tbody>\n",
       "</table>\n",
       "</div>"
      ],
      "text/plain": [
       "  state  Restaurant_visit  Web_visit  Web_purchase  Webstore_spend  \\\n",
       "0    CA                89         51            31            3186   \n",
       "1    NJ                82         52            24            4051   \n",
       "2    NY                59         35            21            3114   \n",
       "3    FL                46         21             9            1203   \n",
       "4    TX                40         20            12             727   \n",
       "\n",
       "   Third_visit  Third_visit_spend  \n",
       "0           46               1424  \n",
       "1           22                534  \n",
       "2           30                966  \n",
       "3           19                615  \n",
       "4           24                780  "
      ]
     },
     "execution_count": 24,
     "metadata": {},
     "output_type": "execute_result"
    }
   ],
   "source": [
    "cleaned_data_by_state = cleaned_data.groupby('state').agg(\n",
    "                        Restaurant_visit = pd.NamedAgg(column='RES_VISITS', aggfunc='sum'),\n",
    "                        Web_visit = pd.NamedAgg(column='WEB_VISITS', aggfunc='sum'),\n",
    "                        Web_purchase = pd.NamedAgg(column='WEB_PURCH_YN', aggfunc='sum'),\n",
    "                        Webstore_spend = pd.NamedAgg(column='Webstore_Spend', aggfunc='sum'),\n",
    "                        Third_visit = pd.NamedAgg(column='THIRD_VISITS', aggfunc='sum'),\n",
    "                        Third_visit_spend = pd.NamedAgg(column='THIRD_SPEND', aggfunc='sum'))\n",
    "cleaned_data_by_state = cleaned_data_by_state.sort_values('Restaurant_visit', ascending=False).reset_index()\n",
    "cleaned_data_by_state.head()"
   ]
  },
  {
   "cell_type": "code",
   "execution_count": 25,
   "metadata": {},
   "outputs": [
    {
     "data": {
      "image/png": "[encoded data removed]",
      "text/plain": [
       "<Figure size 1224x576 with 1 Axes>"
      ]
     },
     "metadata": {
      "needs_background": "light"
     },
     "output_type": "display_data"
    }
   ],
   "source": [
    "y1 = cleaned_data_by_state.Restaurant_visit\n",
    "y2 = cleaned_data_by_state.Web_visit\n",
    "y3 = list(cleaned_data_by_state.Web_purchase)\n",
    "x = cleaned_data_by_state.state\n",
    "plt.figure(figsize=(17, 8))\n",
    "plt.plot(x, y1, 'r', label='Restarant visits')\n",
    "plt.plot(x, y2, 'b', label='Webstore visits')\n",
    "plt.plot(x, y3, 'g', label='Webstore purchases')\n",
    "plt.legend();"
   ]
  },
  {
   "cell_type": "markdown",
   "metadata": {},
   "source": [
    "Two things here:\n",
    "- Restaurants in California, New Jersey, New York, Floria, Texas are leading the nation for number of visitings. Would it be because they have more restaurants in those states? Probably, since they are big state with more population, but we don't have data here to verify that.\n",
    "- States with more restaurant visits are more likely to have more customers visit and make purchase on the webstore."
   ]
  },
  {
   "cell_type": "markdown",
   "metadata": {},
   "source": [
    "So if the customers come back, would they spend more money?"
   ]
  },
  {
   "cell_type": "code",
   "execution_count": 26,
   "metadata": {},
   "outputs": [
    {
     "data": {
      "text/plain": [
       "<seaborn.axisgrid.FacetGrid at 0x24f36438eb0>"
      ]
     },
     "execution_count": 26,
     "metadata": {},
     "output_type": "execute_result"
    },
    {
     "data": {
      "image/png": "[encoded data removed]",
      "text/plain": [
       "<Figure size 360x360 with 1 Axes>"
      ]
     },
     "metadata": {
      "needs_background": "light"
     },
     "output_type": "display_data"
    }
   ],
   "source": [
    "sns.lmplot(x='THIRD_VISITS', y='THIRD_SPEND', data=cleaned_data)"
   ]
  },
  {
   "cell_type": "markdown",
   "metadata": {},
   "source": [
    "Great! It seems like if customers willing to comeback (which means they like us), they probably will spend more money in the restaurant too."
   ]
  },
  {
   "cell_type": "code",
   "execution_count": 27,
   "metadata": {},
   "outputs": [
    {
     "data": {
      "image/png": "[encoded data removed]",
      "text/plain": [
       "<Figure size 360x360 with 1 Axes>"
      ]
     },
     "metadata": {
      "needs_background": "light"
     },
     "output_type": "display_data"
    },
    {
     "data": {
      "image/png": "[encoded data removed]",
      "text/plain": [
       "<Figure size 360x360 with 1 Axes>"
      ]
     },
     "metadata": {
      "needs_background": "light"
     },
     "output_type": "display_data"
    }
   ],
   "source": [
    "sns.lmplot(x='Income', y='THIRD_SPEND', data=cleaned_data)\n",
    "sns.lmplot(x='Age', y='THIRD_SPEND', data=cleaned_data);"
   ]
  },
  {
   "cell_type": "code",
   "execution_count": 28,
   "metadata": {},
   "outputs": [
    {
     "data": {
      "text/plain": [
       "(126, 244)"
      ]
     },
     "execution_count": 28,
     "metadata": {},
     "output_type": "execute_result"
    }
   ],
   "source": [
    "(np.count_nonzero(cleaned_data['THIRD_SPEND']), np.count_nonzero(cleaned_data['THIRD_VISITS']))"
   ]
  },
  {
   "cell_type": "markdown",
   "metadata": {},
   "source": [
    "244 third visits but only 126 third spend. Let's try to remove the zeros to see if we see something different"
   ]
  },
  {
   "cell_type": "code",
   "execution_count": 29,
   "metadata": {},
   "outputs": [
    {
     "data": {
      "image/png": "[encoded data removed]",
      "text/plain": [
       "<Figure size 360x360 with 1 Axes>"
      ]
     },
     "metadata": {
      "needs_background": "light"
     },
     "output_type": "display_data"
    },
    {
     "data": {
      "image/png": "[encoded data removed]",
      "text/plain": [
       "<Figure size 360x360 with 1 Axes>"
      ]
     },
     "metadata": {
      "needs_background": "light"
     },
     "output_type": "display_data"
    }
   ],
   "source": [
    "sns.lmplot(x='Income', y='THIRD_SPEND', data=cleaned_data[cleaned_data.THIRD_SPEND > 0])\n",
    "sns.lmplot(x='Age', y='THIRD_SPEND', data=cleaned_data[cleaned_data.THIRD_SPEND > 0]);"
   ]
  },
  {
   "cell_type": "markdown",
   "metadata": {},
   "source": [
    "No relation as we can see."
   ]
  },
  {
   "cell_type": "code",
   "execution_count": 30,
   "metadata": {},
   "outputs": [
    {
     "data": {
      "image/png": "[encoded data removed]",
      "text/plain": [
       "<Figure size 1080x576 with 2 Axes>"
      ]
     },
     "metadata": {
      "needs_background": "light"
     },
     "output_type": "display_data"
    }
   ],
   "source": [
    "fig, axs = plt.subplots(1, 2, figsize=(15, 8))\n",
    "sns.boxplot(x='WEB_PURCH_YN', y='Age', data=cleaned_data, ax=axs[0])\n",
    "sns.boxplot(x='WEB_PURCH_YN', y='Income', data=cleaned_data, ax=axs[1]);"
   ]
  },
  {
   "cell_type": "markdown",
   "metadata": {},
   "source": [
    "It looks like older people are less likely to purchase something on the webstore, while the income does not indicate anything noticable here. I want to do a test here to see if there is any real relation."
   ]
  },
  {
   "cell_type": "markdown",
   "metadata": {},
   "source": [
    "Now let's clean our data one last time and put everything to Machine Learning and see what we got."
   ]
  },
  {
   "cell_type": "code",
   "execution_count": 31,
   "metadata": {},
   "outputs": [
    {
     "name": "stdout",
     "output_type": "stream",
     "text": [
      "<class 'pandas.core.frame.DataFrame'>\n",
      "RangeIndex: 500 entries, 0 to 499\n",
      "Data columns (total 13 columns):\n",
      " #   Column          Non-Null Count  Dtype  \n",
      "---  ------          --------------  -----  \n",
      " 0   city            500 non-null    object \n",
      " 1   county          500 non-null    object \n",
      " 2   state           500 non-null    object \n",
      " 3   zip             500 non-null    object \n",
      " 4   RES_VISITS      500 non-null    int64  \n",
      " 5   WEB_PURCH_YN    500 non-null    boolean\n",
      " 6   Webstore_Spend  500 non-null    int64  \n",
      " 7   WEB_VISITS      500 non-null    int64  \n",
      " 8   THIRD_SPEND     500 non-null    int64  \n",
      " 9   THIRD_VISITS    500 non-null    int64  \n",
      " 10  Age             500 non-null    int64  \n",
      " 11  MARR_BIN        500 non-null    boolean\n",
      " 12  Income          500 non-null    int64  \n",
      "dtypes: boolean(2), int64(7), object(4)\n",
      "memory usage: 45.0+ KB\n"
     ]
    }
   ],
   "source": [
    "cleaned_data.info()"
   ]
  },
  {
   "cell_type": "code",
   "execution_count": 32,
   "metadata": {},
   "outputs": [
    {
     "data": {
      "text/html": [
       "<div>\n",
       "<style scoped>\n",
       "    .dataframe tbody tr th:only-of-type {\n",
       "        vertical-align: middle;\n",
       "    }\n",
       "\n",
       "    .dataframe tbody tr th {\n",
       "        vertical-align: top;\n",
       "    }\n",
       "\n",
       "    .dataframe thead th {\n",
       "        text-align: right;\n",
       "    }\n",
       "</style>\n",
       "<table border=\"1\" class=\"dataframe\">\n",
       "  <thead>\n",
       "    <tr style=\"text-align: right;\">\n",
       "      <th></th>\n",
       "      <th>RES_VISITS</th>\n",
       "      <th>WEB_PURCH_YN</th>\n",
       "      <th>Webstore_Spend</th>\n",
       "      <th>WEB_VISITS</th>\n",
       "      <th>THIRD_SPEND</th>\n",
       "      <th>THIRD_VISITS</th>\n",
       "      <th>Age</th>\n",
       "      <th>MARR_BIN</th>\n",
       "      <th>Income</th>\n",
       "    </tr>\n",
       "  </thead>\n",
       "  <tbody>\n",
       "    <tr>\n",
       "      <th>0</th>\n",
       "      <td>2</td>\n",
       "      <td>True</td>\n",
       "      <td>191</td>\n",
       "      <td>3</td>\n",
       "      <td>63</td>\n",
       "      <td>1</td>\n",
       "      <td>28</td>\n",
       "      <td>False</td>\n",
       "      <td>42</td>\n",
       "    </tr>\n",
       "    <tr>\n",
       "      <th>1</th>\n",
       "      <td>1</td>\n",
       "      <td>False</td>\n",
       "      <td>0</td>\n",
       "      <td>1</td>\n",
       "      <td>0</td>\n",
       "      <td>0</td>\n",
       "      <td>49</td>\n",
       "      <td>True</td>\n",
       "      <td>112</td>\n",
       "    </tr>\n",
       "    <tr>\n",
       "      <th>2</th>\n",
       "      <td>2</td>\n",
       "      <td>False</td>\n",
       "      <td>0</td>\n",
       "      <td>0</td>\n",
       "      <td>0</td>\n",
       "      <td>0</td>\n",
       "      <td>44</td>\n",
       "      <td>True</td>\n",
       "      <td>74</td>\n",
       "    </tr>\n",
       "    <tr>\n",
       "      <th>3</th>\n",
       "      <td>1</td>\n",
       "      <td>False</td>\n",
       "      <td>0</td>\n",
       "      <td>0</td>\n",
       "      <td>26</td>\n",
       "      <td>1</td>\n",
       "      <td>19</td>\n",
       "      <td>False</td>\n",
       "      <td>47</td>\n",
       "    </tr>\n",
       "    <tr>\n",
       "      <th>4</th>\n",
       "      <td>3</td>\n",
       "      <td>True</td>\n",
       "      <td>223</td>\n",
       "      <td>2</td>\n",
       "      <td>0</td>\n",
       "      <td>0</td>\n",
       "      <td>25</td>\n",
       "      <td>True</td>\n",
       "      <td>55</td>\n",
       "    </tr>\n",
       "    <tr>\n",
       "      <th>...</th>\n",
       "      <td>...</td>\n",
       "      <td>...</td>\n",
       "      <td>...</td>\n",
       "      <td>...</td>\n",
       "      <td>...</td>\n",
       "      <td>...</td>\n",
       "      <td>...</td>\n",
       "      <td>...</td>\n",
       "      <td>...</td>\n",
       "    </tr>\n",
       "    <tr>\n",
       "      <th>495</th>\n",
       "      <td>1</td>\n",
       "      <td>False</td>\n",
       "      <td>0</td>\n",
       "      <td>0</td>\n",
       "      <td>0</td>\n",
       "      <td>0</td>\n",
       "      <td>73</td>\n",
       "      <td>False</td>\n",
       "      <td>67</td>\n",
       "    </tr>\n",
       "    <tr>\n",
       "      <th>496</th>\n",
       "      <td>2</td>\n",
       "      <td>False</td>\n",
       "      <td>0</td>\n",
       "      <td>1</td>\n",
       "      <td>165</td>\n",
       "      <td>2</td>\n",
       "      <td>28</td>\n",
       "      <td>True</td>\n",
       "      <td>37</td>\n",
       "    </tr>\n",
       "    <tr>\n",
       "      <th>497</th>\n",
       "      <td>1</td>\n",
       "      <td>False</td>\n",
       "      <td>0</td>\n",
       "      <td>0</td>\n",
       "      <td>0</td>\n",
       "      <td>0</td>\n",
       "      <td>22</td>\n",
       "      <td>True</td>\n",
       "      <td>58</td>\n",
       "    </tr>\n",
       "    <tr>\n",
       "      <th>498</th>\n",
       "      <td>1</td>\n",
       "      <td>False</td>\n",
       "      <td>0</td>\n",
       "      <td>0</td>\n",
       "      <td>106</td>\n",
       "      <td>2</td>\n",
       "      <td>29</td>\n",
       "      <td>True</td>\n",
       "      <td>53</td>\n",
       "    </tr>\n",
       "    <tr>\n",
       "      <th>499</th>\n",
       "      <td>1</td>\n",
       "      <td>False</td>\n",
       "      <td>0</td>\n",
       "      <td>0</td>\n",
       "      <td>0</td>\n",
       "      <td>1</td>\n",
       "      <td>28</td>\n",
       "      <td>False</td>\n",
       "      <td>34</td>\n",
       "    </tr>\n",
       "  </tbody>\n",
       "</table>\n",
       "<p>500 rows × 9 columns</p>\n",
       "</div>"
      ],
      "text/plain": [
       "     RES_VISITS  WEB_PURCH_YN  Webstore_Spend  WEB_VISITS  THIRD_SPEND  \\\n",
       "0             2          True             191           3           63   \n",
       "1             1         False               0           1            0   \n",
       "2             2         False               0           0            0   \n",
       "3             1         False               0           0           26   \n",
       "4             3          True             223           2            0   \n",
       "..          ...           ...             ...         ...          ...   \n",
       "495           1         False               0           0            0   \n",
       "496           2         False               0           1          165   \n",
       "497           1         False               0           0            0   \n",
       "498           1         False               0           0          106   \n",
       "499           1         False               0           0            0   \n",
       "\n",
       "     THIRD_VISITS  Age  MARR_BIN  Income  \n",
       "0               1   28     False      42  \n",
       "1               0   49      True     112  \n",
       "2               0   44      True      74  \n",
       "3               1   19     False      47  \n",
       "4               0   25      True      55  \n",
       "..            ...  ...       ...     ...  \n",
       "495             0   73     False      67  \n",
       "496             2   28      True      37  \n",
       "497             0   22      True      58  \n",
       "498             2   29      True      53  \n",
       "499             1   28     False      34  \n",
       "\n",
       "[500 rows x 9 columns]"
      ]
     },
     "execution_count": 32,
     "metadata": {},
     "output_type": "execute_result"
    }
   ],
   "source": [
    "columns=['city', 'county', 'state', 'zip']\n",
    "cleaned_data.drop(columns=columns, inplace=True)\n",
    "cleaned_data"
   ]
  },
  {
   "cell_type": "code",
   "execution_count": 33,
   "metadata": {},
   "outputs": [],
   "source": [
    "cleaned_data['WEB_PURCH_YN'] = cleaned_data['WEB_PURCH_YN'].astype(int)\n",
    "cleaned_data['MARR_BIN'] = cleaned_data['MARR_BIN'].astype(int)"
   ]
  },
  {
   "cell_type": "code",
   "execution_count": 34,
   "metadata": {},
   "outputs": [],
   "source": [
    "#cleaned_data['WEB_PURCH_YN_'] = cleaned_data['WEB_PURCH_YN'].replace({'True': 1, 'False': 0})"
   ]
  },
  {
   "cell_type": "code",
   "execution_count": 35,
   "metadata": {},
   "outputs": [
    {
     "data": {
      "text/html": [
       "<div>\n",
       "<style scoped>\n",
       "    .dataframe tbody tr th:only-of-type {\n",
       "        vertical-align: middle;\n",
       "    }\n",
       "\n",
       "    .dataframe tbody tr th {\n",
       "        vertical-align: top;\n",
       "    }\n",
       "\n",
       "    .dataframe thead th {\n",
       "        text-align: right;\n",
       "    }\n",
       "</style>\n",
       "<table border=\"1\" class=\"dataframe\">\n",
       "  <thead>\n",
       "    <tr style=\"text-align: right;\">\n",
       "      <th></th>\n",
       "      <th>RES_VISITS</th>\n",
       "      <th>WEB_PURCH_YN</th>\n",
       "      <th>Webstore_Spend</th>\n",
       "      <th>WEB_VISITS</th>\n",
       "      <th>THIRD_SPEND</th>\n",
       "      <th>THIRD_VISITS</th>\n",
       "      <th>Age</th>\n",
       "      <th>MARR_BIN</th>\n",
       "      <th>Income</th>\n",
       "    </tr>\n",
       "  </thead>\n",
       "  <tbody>\n",
       "    <tr>\n",
       "      <th>0</th>\n",
       "      <td>2</td>\n",
       "      <td>1</td>\n",
       "      <td>191</td>\n",
       "      <td>3</td>\n",
       "      <td>63</td>\n",
       "      <td>1</td>\n",
       "      <td>28</td>\n",
       "      <td>0</td>\n",
       "      <td>42</td>\n",
       "    </tr>\n",
       "    <tr>\n",
       "      <th>1</th>\n",
       "      <td>1</td>\n",
       "      <td>0</td>\n",
       "      <td>0</td>\n",
       "      <td>1</td>\n",
       "      <td>0</td>\n",
       "      <td>0</td>\n",
       "      <td>49</td>\n",
       "      <td>1</td>\n",
       "      <td>112</td>\n",
       "    </tr>\n",
       "    <tr>\n",
       "      <th>2</th>\n",
       "      <td>2</td>\n",
       "      <td>0</td>\n",
       "      <td>0</td>\n",
       "      <td>0</td>\n",
       "      <td>0</td>\n",
       "      <td>0</td>\n",
       "      <td>44</td>\n",
       "      <td>1</td>\n",
       "      <td>74</td>\n",
       "    </tr>\n",
       "    <tr>\n",
       "      <th>3</th>\n",
       "      <td>1</td>\n",
       "      <td>0</td>\n",
       "      <td>0</td>\n",
       "      <td>0</td>\n",
       "      <td>26</td>\n",
       "      <td>1</td>\n",
       "      <td>19</td>\n",
       "      <td>0</td>\n",
       "      <td>47</td>\n",
       "    </tr>\n",
       "    <tr>\n",
       "      <th>4</th>\n",
       "      <td>3</td>\n",
       "      <td>1</td>\n",
       "      <td>223</td>\n",
       "      <td>2</td>\n",
       "      <td>0</td>\n",
       "      <td>0</td>\n",
       "      <td>25</td>\n",
       "      <td>1</td>\n",
       "      <td>55</td>\n",
       "    </tr>\n",
       "    <tr>\n",
       "      <th>...</th>\n",
       "      <td>...</td>\n",
       "      <td>...</td>\n",
       "      <td>...</td>\n",
       "      <td>...</td>\n",
       "      <td>...</td>\n",
       "      <td>...</td>\n",
       "      <td>...</td>\n",
       "      <td>...</td>\n",
       "      <td>...</td>\n",
       "    </tr>\n",
       "    <tr>\n",
       "      <th>495</th>\n",
       "      <td>1</td>\n",
       "      <td>0</td>\n",
       "      <td>0</td>\n",
       "      <td>0</td>\n",
       "      <td>0</td>\n",
       "      <td>0</td>\n",
       "      <td>73</td>\n",
       "      <td>0</td>\n",
       "      <td>67</td>\n",
       "    </tr>\n",
       "    <tr>\n",
       "      <th>496</th>\n",
       "      <td>2</td>\n",
       "      <td>0</td>\n",
       "      <td>0</td>\n",
       "      <td>1</td>\n",
       "      <td>165</td>\n",
       "      <td>2</td>\n",
       "      <td>28</td>\n",
       "      <td>1</td>\n",
       "      <td>37</td>\n",
       "    </tr>\n",
       "    <tr>\n",
       "      <th>497</th>\n",
       "      <td>1</td>\n",
       "      <td>0</td>\n",
       "      <td>0</td>\n",
       "      <td>0</td>\n",
       "      <td>0</td>\n",
       "      <td>0</td>\n",
       "      <td>22</td>\n",
       "      <td>1</td>\n",
       "      <td>58</td>\n",
       "    </tr>\n",
       "    <tr>\n",
       "      <th>498</th>\n",
       "      <td>1</td>\n",
       "      <td>0</td>\n",
       "      <td>0</td>\n",
       "      <td>0</td>\n",
       "      <td>106</td>\n",
       "      <td>2</td>\n",
       "      <td>29</td>\n",
       "      <td>1</td>\n",
       "      <td>53</td>\n",
       "    </tr>\n",
       "    <tr>\n",
       "      <th>499</th>\n",
       "      <td>1</td>\n",
       "      <td>0</td>\n",
       "      <td>0</td>\n",
       "      <td>0</td>\n",
       "      <td>0</td>\n",
       "      <td>1</td>\n",
       "      <td>28</td>\n",
       "      <td>0</td>\n",
       "      <td>34</td>\n",
       "    </tr>\n",
       "  </tbody>\n",
       "</table>\n",
       "<p>500 rows × 9 columns</p>\n",
       "</div>"
      ],
      "text/plain": [
       "     RES_VISITS  WEB_PURCH_YN  Webstore_Spend  WEB_VISITS  THIRD_SPEND  \\\n",
       "0             2             1             191           3           63   \n",
       "1             1             0               0           1            0   \n",
       "2             2             0               0           0            0   \n",
       "3             1             0               0           0           26   \n",
       "4             3             1             223           2            0   \n",
       "..          ...           ...             ...         ...          ...   \n",
       "495           1             0               0           0            0   \n",
       "496           2             0               0           1          165   \n",
       "497           1             0               0           0            0   \n",
       "498           1             0               0           0          106   \n",
       "499           1             0               0           0            0   \n",
       "\n",
       "     THIRD_VISITS  Age  MARR_BIN  Income  \n",
       "0               1   28         0      42  \n",
       "1               0   49         1     112  \n",
       "2               0   44         1      74  \n",
       "3               1   19         0      47  \n",
       "4               0   25         1      55  \n",
       "..            ...  ...       ...     ...  \n",
       "495             0   73         0      67  \n",
       "496             2   28         1      37  \n",
       "497             0   22         1      58  \n",
       "498             2   29         1      53  \n",
       "499             1   28         0      34  \n",
       "\n",
       "[500 rows x 9 columns]"
      ]
     },
     "execution_count": 35,
     "metadata": {},
     "output_type": "execute_result"
    }
   ],
   "source": [
    "cleaned_data"
   ]
  },
  {
   "cell_type": "markdown",
   "metadata": {},
   "source": [
    "We will train the data to see what is the most important aspects that affect the Webstore_Spend and Third_Spend"
   ]
  },
  {
   "cell_type": "code",
   "execution_count": 36,
   "metadata": {},
   "outputs": [],
   "source": [
    "dependent = ['Webstore_Spend', 'THIRD_SPEND']\n",
    "X = cleaned_data.drop(columns=dependent)\n",
    "y_web = cleaned_data['Webstore_Spend']\n",
    "y_res = cleaned_data['THIRD_SPEND']"
   ]
  },
  {
   "cell_type": "markdown",
   "metadata": {},
   "source": [
    "For Webstore_Spend"
   ]
  },
  {
   "cell_type": "code",
   "execution_count": 37,
   "metadata": {},
   "outputs": [],
   "source": [
    "X_train, X_test, y_train, y_test = train_test_split(X, y_web, test_size=0.3, random_state=123)"
   ]
  },
  {
   "cell_type": "code",
   "execution_count": 38,
   "metadata": {},
   "outputs": [
    {
     "data": {
      "text/plain": [
       "((350, 7), (350,))"
      ]
     },
     "execution_count": 38,
     "metadata": {},
     "output_type": "execute_result"
    }
   ],
   "source": [
    "(X_train.shape, y_train.shape)"
   ]
  },
  {
   "cell_type": "code",
   "execution_count": 39,
   "metadata": {},
   "outputs": [
    {
     "data": {
      "text/plain": [
       "((150, 7), (150,))"
      ]
     },
     "execution_count": 39,
     "metadata": {},
     "output_type": "execute_result"
    }
   ],
   "source": [
    "(X_test.shape, y_test.shape)"
   ]
  },
  {
   "cell_type": "code",
   "execution_count": 40,
   "metadata": {},
   "outputs": [],
   "source": [
    "#Create function to get best score parameters\n",
    "def report_best_scores(results, n_top=3):\n",
    "    for i in range(1, n_top + 1):\n",
    "        candidates = np.flatnonzero(results['rank_test_score'] == i)\n",
    "        for candidate in candidates:\n",
    "            print(\"Model with rank: {0}\".format(i))\n",
    "            print(\"Mean validation score: {0:.3f} (std: {1:.3f})\".format(\n",
    "                  results['mean_test_score'][candidate],\n",
    "                  results['std_test_score'][candidate]))\n",
    "            print(\"Parameters: {0}\".format(results['params'][candidate]))\n",
    "            print(\"\")"
   ]
  },
  {
   "cell_type": "code",
   "execution_count": 41,
   "metadata": {},
   "outputs": [],
   "source": [
    "xgb_model_web = xgb.XGBRegressor(objective='reg:squarederror')"
   ]
  },
  {
   "cell_type": "code",
   "execution_count": 42,
   "metadata": {},
   "outputs": [
    {
     "name": "stdout",
     "output_type": "stream",
     "text": [
      "Fitting 5 folds for each of 100 candidates, totalling 500 fits\n"
     ]
    },
    {
     "name": "stderr",
     "output_type": "stream",
     "text": [
      "[Parallel(n_jobs=-1)]: Using backend LokyBackend with 8 concurrent workers.\n",
      "[Parallel(n_jobs=-1)]: Done  34 tasks      | elapsed:    2.5s\n",
      "[Parallel(n_jobs=-1)]: Done 312 tasks      | elapsed:    6.0s\n",
      "[Parallel(n_jobs=-1)]: Done 485 out of 500 | elapsed:    8.1s remaining:    0.2s\n",
      "[Parallel(n_jobs=-1)]: Done 500 out of 500 | elapsed:    8.2s finished\n"
     ]
    },
    {
     "name": "stdout",
     "output_type": "stream",
     "text": [
      "Model with rank: 1\n",
      "Mean validation score: 0.449 (std: 0.141)\n",
      "Parameters: {'subsample': 0.7, 'min_child_weight': 3, 'max_depth': 1, 'learning_rate': 0.2, 'gamma': 0.0, 'colsample_bytree': 0.6}\n",
      "\n"
     ]
    }
   ],
   "source": [
    "#Search for best params using RandomizedSearchCV\n",
    "params = {\n",
    "    \"colsample_bytree\": [i/10.0 for i in range(6, 10)],\n",
    "    \"gamma\": [i/10.0 for i in range(0, 5)],\n",
    "    \"learning_rate\": [i/10.0 for i in range(1, 11)], # default 0.1 \n",
    "    \"max_depth\": range(1, 10), # default 3\n",
    "    \"subsample\": [i/10.0 for i in range(6,10)],\n",
    "    \"min_child_weight\": range(1, 6),\n",
    "}\n",
    "\n",
    "search = RandomizedSearchCV(xgb_model_web, param_distributions=params, random_state=42, n_iter=100, cv=5, verbose=1, n_jobs=-1, return_train_score=True)\n",
    "\n",
    "search.fit(X_train, y_train)\n",
    "\n",
    "report_best_scores(search.cv_results_, 1)"
   ]
  },
  {
   "cell_type": "code",
   "execution_count": 43,
   "metadata": {},
   "outputs": [],
   "source": [
    "xgb_model_web = xgb.XGBRegressor(objective='reg:squarederror', subsample=0.7, min_child_weight=3, max_depth=1, learning_rate=0.2, \n",
    "                                gamma=0, colsample_bytree=0.6, n_estimators=200)"
   ]
  },
  {
   "cell_type": "code",
   "execution_count": 44,
   "metadata": {},
   "outputs": [
    {
     "name": "stdout",
     "output_type": "stream",
     "text": [
      "[0]\tvalidation_0-rmse:75.87753\n",
      "[1]\tvalidation_0-rmse:73.35456\n",
      "[2]\tvalidation_0-rmse:66.19594\n",
      "[3]\tvalidation_0-rmse:61.83870\n",
      "[4]\tvalidation_0-rmse:58.84271\n",
      "[5]\tvalidation_0-rmse:57.47216\n",
      "[6]\tvalidation_0-rmse:55.82830\n",
      "[7]\tvalidation_0-rmse:55.03686\n",
      "[8]\tvalidation_0-rmse:53.64582\n",
      "[9]\tvalidation_0-rmse:52.98842\n",
      "[10]\tvalidation_0-rmse:53.02158\n",
      "[11]\tvalidation_0-rmse:52.74069\n",
      "[12]\tvalidation_0-rmse:52.85915\n",
      "[13]\tvalidation_0-rmse:52.50867\n",
      "[14]\tvalidation_0-rmse:52.56600\n",
      "[15]\tvalidation_0-rmse:52.38463\n",
      "[16]\tvalidation_0-rmse:52.61247\n",
      "[17]\tvalidation_0-rmse:52.79697\n",
      "[18]\tvalidation_0-rmse:53.01227\n",
      "[19]\tvalidation_0-rmse:53.16334\n",
      "[20]\tvalidation_0-rmse:53.35391\n",
      "[21]\tvalidation_0-rmse:53.09712\n",
      "[22]\tvalidation_0-rmse:53.28301\n",
      "[23]\tvalidation_0-rmse:53.24853\n",
      "[24]\tvalidation_0-rmse:53.35901\n",
      "[25]\tvalidation_0-rmse:53.61186\n",
      "[26]\tvalidation_0-rmse:53.63613\n",
      "[27]\tvalidation_0-rmse:53.45433\n",
      "[28]\tvalidation_0-rmse:53.55129\n",
      "[29]\tvalidation_0-rmse:53.68654\n",
      "[30]\tvalidation_0-rmse:53.59716\n",
      "[31]\tvalidation_0-rmse:54.20236\n",
      "[32]\tvalidation_0-rmse:54.34616\n",
      "[33]\tvalidation_0-rmse:54.44656\n",
      "[34]\tvalidation_0-rmse:54.20403\n",
      "[35]\tvalidation_0-rmse:54.19835\n",
      "[36]\tvalidation_0-rmse:54.60452\n",
      "[37]\tvalidation_0-rmse:54.57088\n",
      "[38]\tvalidation_0-rmse:54.52729\n",
      "[39]\tvalidation_0-rmse:54.58975\n",
      "[40]\tvalidation_0-rmse:54.94794\n",
      "[41]\tvalidation_0-rmse:55.44661\n",
      "[42]\tvalidation_0-rmse:55.46482\n",
      "[43]\tvalidation_0-rmse:55.66298\n",
      "[44]\tvalidation_0-rmse:55.78109\n",
      "[45]\tvalidation_0-rmse:55.80442\n",
      "[46]\tvalidation_0-rmse:55.84901\n",
      "[47]\tvalidation_0-rmse:56.17162\n",
      "[48]\tvalidation_0-rmse:56.15304\n",
      "[49]\tvalidation_0-rmse:55.77487\n",
      "[50]\tvalidation_0-rmse:55.82961\n",
      "[51]\tvalidation_0-rmse:55.75480\n",
      "[52]\tvalidation_0-rmse:55.89005\n",
      "[53]\tvalidation_0-rmse:55.61485\n",
      "[54]\tvalidation_0-rmse:55.64975\n",
      "[55]\tvalidation_0-rmse:55.76628\n",
      "[56]\tvalidation_0-rmse:55.67177\n",
      "[57]\tvalidation_0-rmse:55.85216\n",
      "[58]\tvalidation_0-rmse:55.74623\n",
      "[59]\tvalidation_0-rmse:55.77585\n",
      "[60]\tvalidation_0-rmse:56.00042\n",
      "[61]\tvalidation_0-rmse:55.96257\n",
      "[62]\tvalidation_0-rmse:56.03065\n",
      "[63]\tvalidation_0-rmse:56.18185\n",
      "[64]\tvalidation_0-rmse:56.45838\n",
      "[65]\tvalidation_0-rmse:56.45729\n",
      "[66]\tvalidation_0-rmse:56.98790\n",
      "[67]\tvalidation_0-rmse:56.76231\n",
      "[68]\tvalidation_0-rmse:57.19462\n",
      "[69]\tvalidation_0-rmse:56.31107\n",
      "[70]\tvalidation_0-rmse:56.24386\n",
      "[71]\tvalidation_0-rmse:56.23567\n",
      "[72]\tvalidation_0-rmse:56.67977\n",
      "[73]\tvalidation_0-rmse:56.62754\n",
      "[74]\tvalidation_0-rmse:55.77576\n",
      "[75]\tvalidation_0-rmse:55.76849\n",
      "[76]\tvalidation_0-rmse:55.61320\n",
      "[77]\tvalidation_0-rmse:55.72461\n",
      "[78]\tvalidation_0-rmse:55.67984\n",
      "[79]\tvalidation_0-rmse:55.36269\n",
      "[80]\tvalidation_0-rmse:56.01720\n",
      "[81]\tvalidation_0-rmse:56.00185\n",
      "[82]\tvalidation_0-rmse:55.83429\n",
      "[83]\tvalidation_0-rmse:56.20558\n",
      "[84]\tvalidation_0-rmse:56.01522\n",
      "[85]\tvalidation_0-rmse:56.12859\n",
      "[86]\tvalidation_0-rmse:56.24737\n",
      "[87]\tvalidation_0-rmse:56.37168\n",
      "[88]\tvalidation_0-rmse:56.30906\n",
      "[89]\tvalidation_0-rmse:55.50552\n",
      "[90]\tvalidation_0-rmse:55.41621\n",
      "[91]\tvalidation_0-rmse:55.56154\n",
      "[92]\tvalidation_0-rmse:55.22769\n",
      "[93]\tvalidation_0-rmse:55.36085\n",
      "[94]\tvalidation_0-rmse:55.20432\n",
      "[95]\tvalidation_0-rmse:55.40969\n",
      "[96]\tvalidation_0-rmse:55.49871\n",
      "[97]\tvalidation_0-rmse:55.44225\n",
      "[98]\tvalidation_0-rmse:55.35546\n",
      "[99]\tvalidation_0-rmse:55.41491\n",
      "[100]\tvalidation_0-rmse:55.79749\n",
      "[101]\tvalidation_0-rmse:55.81222\n",
      "[102]\tvalidation_0-rmse:56.00438\n",
      "[103]\tvalidation_0-rmse:55.59335\n",
      "[104]\tvalidation_0-rmse:55.65920\n",
      "[105]\tvalidation_0-rmse:55.61582\n",
      "[106]\tvalidation_0-rmse:55.78426\n",
      "[107]\tvalidation_0-rmse:55.66887\n",
      "[108]\tvalidation_0-rmse:55.75726\n",
      "[109]\tvalidation_0-rmse:55.77233\n",
      "[110]\tvalidation_0-rmse:55.73489\n",
      "[111]\tvalidation_0-rmse:55.68489\n",
      "[112]\tvalidation_0-rmse:56.20584\n",
      "[113]\tvalidation_0-rmse:56.34494\n",
      "[114]\tvalidation_0-rmse:56.27036\n"
     ]
    }
   ],
   "source": [
    "xgb_model_web.fit(X_train, y_train, early_stopping_rounds=100, verbose=1, eval_set=[(X_test, y_test)])\n",
    "y_web_pred = xgb_model_web.predict(X_test)"
   ]
  },
  {
   "cell_type": "code",
   "execution_count": 45,
   "metadata": {},
   "outputs": [
    {
     "data": {
      "text/plain": [
       "28.498350658416747"
      ]
     },
     "execution_count": 45,
     "metadata": {},
     "output_type": "execute_result"
    }
   ],
   "source": [
    "mean_absolute_error(y_test, y_web_pred)"
   ]
  },
  {
   "cell_type": "code",
   "execution_count": 46,
   "metadata": {},
   "outputs": [
    {
     "data": {
      "image/png": "[encoded data removed]",
      "text/plain": [
       "<Figure size 432x288 with 1 Axes>"
      ]
     },
     "metadata": {
      "needs_background": "light"
     },
     "output_type": "display_data"
    }
   ],
   "source": [
    "ax = xgb.plot_importance(xgb_model_web)\n",
    "#fig = ax.figure\n",
    "#fig.set_size_inches(10, 20)"
   ]
  },
  {
   "cell_type": "markdown",
   "metadata": {},
   "source": [
    "Interestingly, Age is the most important aspect that affects the Webstore_Spend."
   ]
  },
  {
   "cell_type": "markdown",
   "metadata": {},
   "source": [
    "Now let's see for THIRD_SPEND"
   ]
  },
  {
   "cell_type": "code",
   "execution_count": 47,
   "metadata": {},
   "outputs": [],
   "source": [
    "X_train, X_test, y_train, y_test = train_test_split(X, y_res, test_size=0.3, random_state=123)"
   ]
  },
  {
   "cell_type": "code",
   "execution_count": 48,
   "metadata": {},
   "outputs": [],
   "source": [
    "xgb_model_res = xgb.XGBRegressor(objective='reg:squarederror')"
   ]
  },
  {
   "cell_type": "code",
   "execution_count": 49,
   "metadata": {},
   "outputs": [
    {
     "name": "stdout",
     "output_type": "stream",
     "text": [
      "Fitting 5 folds for each of 100 candidates, totalling 500 fits\n"
     ]
    },
    {
     "name": "stderr",
     "output_type": "stream",
     "text": [
      "[Parallel(n_jobs=-1)]: Using backend LokyBackend with 8 concurrent workers.\n",
      "[Parallel(n_jobs=-1)]: Done  52 tasks      | elapsed:    0.8s\n",
      "[Parallel(n_jobs=-1)]: Done 352 tasks      | elapsed:    4.8s\n"
     ]
    },
    {
     "name": "stdout",
     "output_type": "stream",
     "text": [
      "Model with rank: 1\n",
      "Mean validation score: 0.562 (std: 0.087)\n",
      "Parameters: {'subsample': 0.9, 'min_child_weight': 5, 'max_depth': 1, 'learning_rate': 0.2, 'gamma': 0.3, 'colsample_bytree': 0.8}\n",
      "\n"
     ]
    },
    {
     "name": "stderr",
     "output_type": "stream",
     "text": [
      "[Parallel(n_jobs=-1)]: Done 500 out of 500 | elapsed:    6.6s finished\n"
     ]
    }
   ],
   "source": [
    "#Search for best params using RandomizedSearchCV\n",
    "params = {\n",
    "    \"colsample_bytree\": [i/10.0 for i in range(6, 10)],\n",
    "    \"gamma\": [i/10.0 for i in range(0, 5)],\n",
    "    \"learning_rate\": [i/10.0 for i in range(1, 11)], # default 0.1 \n",
    "    \"max_depth\": range(1, 10), # default 3\n",
    "    \"subsample\": [i/10.0 for i in range(6,10)],\n",
    "    \"min_child_weight\": range(1, 6),\n",
    "}\n",
    "\n",
    "search = RandomizedSearchCV(xgb_model_res, param_distributions=params, random_state=42, n_iter=100, cv=5, verbose=1, n_jobs=-1, return_train_score=True)\n",
    "\n",
    "search.fit(X_train, y_train)\n",
    "\n",
    "report_best_scores(search.cv_results_, 1)"
   ]
  },
  {
   "cell_type": "code",
   "execution_count": 50,
   "metadata": {},
   "outputs": [],
   "source": [
    "xgb_model_res = xgb.XGBRegressor(objective='reg:squarederror', subsample=0.9, min_child_weight=5, max_depth=1, learning_rate=0.2, \n",
    "                                gamma=0.3, colsample_bytree=0.8, n_estimators=200)"
   ]
  },
  {
   "cell_type": "code",
   "execution_count": 51,
   "metadata": {},
   "outputs": [
    {
     "name": "stdout",
     "output_type": "stream",
     "text": [
      "[0]\tvalidation_0-rmse:39.09885\n",
      "[1]\tvalidation_0-rmse:34.36606\n",
      "[2]\tvalidation_0-rmse:30.92385\n",
      "[3]\tvalidation_0-rmse:28.12925\n",
      "[4]\tvalidation_0-rmse:26.54141\n",
      "[5]\tvalidation_0-rmse:26.29184\n",
      "[6]\tvalidation_0-rmse:26.20878\n",
      "[7]\tvalidation_0-rmse:25.25101\n",
      "[8]\tvalidation_0-rmse:24.00452\n",
      "[9]\tvalidation_0-rmse:24.01784\n",
      "[10]\tvalidation_0-rmse:23.97843\n",
      "[11]\tvalidation_0-rmse:22.88348\n",
      "[12]\tvalidation_0-rmse:21.58582\n",
      "[13]\tvalidation_0-rmse:21.09182\n",
      "[14]\tvalidation_0-rmse:20.53566\n",
      "[15]\tvalidation_0-rmse:20.56143\n",
      "[16]\tvalidation_0-rmse:19.79767\n",
      "[17]\tvalidation_0-rmse:19.90516\n",
      "[18]\tvalidation_0-rmse:19.70318\n",
      "[19]\tvalidation_0-rmse:19.64279\n",
      "[20]\tvalidation_0-rmse:19.11836\n",
      "[21]\tvalidation_0-rmse:18.74381\n",
      "[22]\tvalidation_0-rmse:18.65956\n",
      "[23]\tvalidation_0-rmse:18.62608\n",
      "[24]\tvalidation_0-rmse:18.42931\n",
      "[25]\tvalidation_0-rmse:18.34964\n",
      "[26]\tvalidation_0-rmse:18.45990\n",
      "[27]\tvalidation_0-rmse:18.39803\n",
      "[28]\tvalidation_0-rmse:18.29654\n",
      "[29]\tvalidation_0-rmse:18.30345\n",
      "[30]\tvalidation_0-rmse:18.30910\n",
      "[31]\tvalidation_0-rmse:18.27665\n",
      "[32]\tvalidation_0-rmse:18.38023\n",
      "[33]\tvalidation_0-rmse:18.35463\n",
      "[34]\tvalidation_0-rmse:18.44611\n",
      "[35]\tvalidation_0-rmse:18.47660\n",
      "[36]\tvalidation_0-rmse:18.45019\n",
      "[37]\tvalidation_0-rmse:18.42248\n",
      "[38]\tvalidation_0-rmse:18.51965\n",
      "[39]\tvalidation_0-rmse:18.52473\n",
      "[40]\tvalidation_0-rmse:18.56824\n",
      "[41]\tvalidation_0-rmse:18.61524\n",
      "[42]\tvalidation_0-rmse:18.62233\n",
      "[43]\tvalidation_0-rmse:18.71407\n",
      "[44]\tvalidation_0-rmse:18.69903\n",
      "[45]\tvalidation_0-rmse:18.64545\n",
      "[46]\tvalidation_0-rmse:18.66454\n",
      "[47]\tvalidation_0-rmse:18.70923\n",
      "[48]\tvalidation_0-rmse:18.72796\n",
      "[49]\tvalidation_0-rmse:18.72260\n",
      "[50]\tvalidation_0-rmse:18.79538\n",
      "[51]\tvalidation_0-rmse:18.77149\n",
      "[52]\tvalidation_0-rmse:18.75109\n",
      "[53]\tvalidation_0-rmse:18.85932\n",
      "[54]\tvalidation_0-rmse:18.81199\n",
      "[55]\tvalidation_0-rmse:18.78762\n",
      "[56]\tvalidation_0-rmse:18.79536\n",
      "[57]\tvalidation_0-rmse:18.90736\n",
      "[58]\tvalidation_0-rmse:18.93718\n",
      "[59]\tvalidation_0-rmse:18.97492\n",
      "[60]\tvalidation_0-rmse:19.02874\n",
      "[61]\tvalidation_0-rmse:19.01266\n",
      "[62]\tvalidation_0-rmse:19.02924\n",
      "[63]\tvalidation_0-rmse:18.97928\n",
      "[64]\tvalidation_0-rmse:18.95784\n",
      "[65]\tvalidation_0-rmse:19.05285\n",
      "[66]\tvalidation_0-rmse:19.12571\n",
      "[67]\tvalidation_0-rmse:19.18189\n",
      "[68]\tvalidation_0-rmse:19.21420\n",
      "[69]\tvalidation_0-rmse:19.19098\n",
      "[70]\tvalidation_0-rmse:19.14491\n",
      "[71]\tvalidation_0-rmse:19.17975\n",
      "[72]\tvalidation_0-rmse:19.20195\n",
      "[73]\tvalidation_0-rmse:19.23374\n",
      "[74]\tvalidation_0-rmse:19.16104\n",
      "[75]\tvalidation_0-rmse:19.12774\n",
      "[76]\tvalidation_0-rmse:19.13208\n",
      "[77]\tvalidation_0-rmse:19.08423\n",
      "[78]\tvalidation_0-rmse:19.12380\n",
      "[79]\tvalidation_0-rmse:19.14010\n",
      "[80]\tvalidation_0-rmse:19.13602\n",
      "[81]\tvalidation_0-rmse:19.25214\n",
      "[82]\tvalidation_0-rmse:19.37133\n",
      "[83]\tvalidation_0-rmse:19.38350\n",
      "[84]\tvalidation_0-rmse:19.35016\n",
      "[85]\tvalidation_0-rmse:19.32712\n",
      "[86]\tvalidation_0-rmse:19.36518\n",
      "[87]\tvalidation_0-rmse:19.33455\n",
      "[88]\tvalidation_0-rmse:19.38232\n",
      "[89]\tvalidation_0-rmse:19.34527\n",
      "[90]\tvalidation_0-rmse:19.33431\n",
      "[91]\tvalidation_0-rmse:19.38382\n",
      "[92]\tvalidation_0-rmse:19.38309\n",
      "[93]\tvalidation_0-rmse:19.36484\n",
      "[94]\tvalidation_0-rmse:19.40321\n",
      "[95]\tvalidation_0-rmse:19.48438\n",
      "[96]\tvalidation_0-rmse:19.53505\n",
      "[97]\tvalidation_0-rmse:19.65274\n",
      "[98]\tvalidation_0-rmse:19.63908\n",
      "[99]\tvalidation_0-rmse:19.63626\n",
      "[100]\tvalidation_0-rmse:19.63299\n",
      "[101]\tvalidation_0-rmse:19.58248\n",
      "[102]\tvalidation_0-rmse:19.57684\n",
      "[103]\tvalidation_0-rmse:19.60489\n",
      "[104]\tvalidation_0-rmse:19.72648\n",
      "[105]\tvalidation_0-rmse:19.71088\n",
      "[106]\tvalidation_0-rmse:19.71307\n",
      "[107]\tvalidation_0-rmse:19.78893\n",
      "[108]\tvalidation_0-rmse:19.67392\n",
      "[109]\tvalidation_0-rmse:19.64240\n",
      "[110]\tvalidation_0-rmse:19.66202\n",
      "[111]\tvalidation_0-rmse:19.60743\n",
      "[112]\tvalidation_0-rmse:19.60393\n",
      "[113]\tvalidation_0-rmse:19.66237\n",
      "[114]\tvalidation_0-rmse:19.69486\n",
      "[115]\tvalidation_0-rmse:19.68617\n",
      "[116]\tvalidation_0-rmse:19.73665\n",
      "[117]\tvalidation_0-rmse:19.80364\n",
      "[118]\tvalidation_0-rmse:19.80448\n",
      "[119]\tvalidation_0-rmse:19.82681\n",
      "[120]\tvalidation_0-rmse:19.87057\n",
      "[121]\tvalidation_0-rmse:19.92118\n",
      "[122]\tvalidation_0-rmse:19.90447\n",
      "[123]\tvalidation_0-rmse:19.88987\n",
      "[124]\tvalidation_0-rmse:19.88682\n",
      "[125]\tvalidation_0-rmse:19.78457\n",
      "[126]\tvalidation_0-rmse:19.83410\n",
      "[127]\tvalidation_0-rmse:19.89186\n",
      "[128]\tvalidation_0-rmse:19.98689\n",
      "[129]\tvalidation_0-rmse:19.97005\n",
      "[130]\tvalidation_0-rmse:19.97704\n"
     ]
    }
   ],
   "source": [
    "xgb_model_res.fit(X_train, y_train, early_stopping_rounds=100, verbose=1, eval_set=[(X_test, y_test)])\n",
    "y_res_pred = xgb_model_res.predict(X_test)"
   ]
  },
  {
   "cell_type": "code",
   "execution_count": 52,
   "metadata": {},
   "outputs": [
    {
     "data": {
      "text/plain": [
       "11.832521583686272"
      ]
     },
     "execution_count": 52,
     "metadata": {},
     "output_type": "execute_result"
    }
   ],
   "source": [
    "mean_absolute_error(y_test, y_res_pred)"
   ]
  },
  {
   "cell_type": "code",
   "execution_count": 53,
   "metadata": {},
   "outputs": [
    {
     "data": {
      "image/png": "[encoded data removed]",
      "text/plain": [
       "<Figure size 432x288 with 1 Axes>"
      ]
     },
     "metadata": {
      "needs_background": "light"
     },
     "output_type": "display_data"
    }
   ],
   "source": [
    "ax = xgb.plot_importance(xgb_model_res)"
   ]
  },
  {
   "cell_type": "markdown",
   "metadata": {},
   "source": [
    "Now Income and Age are the most important that drives the third_spend up/down"
   ]
  },
  {
   "cell_type": "code",
   "execution_count": 54,
   "metadata": {},
   "outputs": [
    {
     "data": {
      "text/html": [
       "<div>\n",
       "<style scoped>\n",
       "    .dataframe tbody tr th:only-of-type {\n",
       "        vertical-align: middle;\n",
       "    }\n",
       "\n",
       "    .dataframe tbody tr th {\n",
       "        vertical-align: top;\n",
       "    }\n",
       "\n",
       "    .dataframe thead th {\n",
       "        text-align: right;\n",
       "    }\n",
       "</style>\n",
       "<table border=\"1\" class=\"dataframe\">\n",
       "  <thead>\n",
       "    <tr style=\"text-align: right;\">\n",
       "      <th></th>\n",
       "      <th>RES_VISITS</th>\n",
       "      <th>WEB_PURCH_YN</th>\n",
       "      <th>Webstore_Spend</th>\n",
       "      <th>WEB_VISITS</th>\n",
       "      <th>THIRD_SPEND</th>\n",
       "      <th>THIRD_VISITS</th>\n",
       "      <th>Age</th>\n",
       "      <th>MARR_BIN</th>\n",
       "      <th>Income</th>\n",
       "    </tr>\n",
       "  </thead>\n",
       "  <tbody>\n",
       "    <tr>\n",
       "      <th>RES_VISITS</th>\n",
       "      <td>1.000000</td>\n",
       "      <td>0.054807</td>\n",
       "      <td>0.294344</td>\n",
       "      <td>0.183940</td>\n",
       "      <td>-0.080116</td>\n",
       "      <td>-0.084643</td>\n",
       "      <td>0.004539</td>\n",
       "      <td>-0.079686</td>\n",
       "      <td>-0.030679</td>\n",
       "    </tr>\n",
       "    <tr>\n",
       "      <th>WEB_PURCH_YN</th>\n",
       "      <td>0.054807</td>\n",
       "      <td>1.000000</td>\n",
       "      <td>0.586431</td>\n",
       "      <td>0.687501</td>\n",
       "      <td>0.041807</td>\n",
       "      <td>0.015200</td>\n",
       "      <td>-0.039851</td>\n",
       "      <td>0.010564</td>\n",
       "      <td>-0.033596</td>\n",
       "    </tr>\n",
       "    <tr>\n",
       "      <th>Webstore_Spend</th>\n",
       "      <td>0.294344</td>\n",
       "      <td>0.586431</td>\n",
       "      <td>1.000000</td>\n",
       "      <td>0.611933</td>\n",
       "      <td>-0.005871</td>\n",
       "      <td>-0.003411</td>\n",
       "      <td>-0.036754</td>\n",
       "      <td>-0.014763</td>\n",
       "      <td>-0.029950</td>\n",
       "    </tr>\n",
       "    <tr>\n",
       "      <th>WEB_VISITS</th>\n",
       "      <td>0.183940</td>\n",
       "      <td>0.687501</td>\n",
       "      <td>0.611933</td>\n",
       "      <td>1.000000</td>\n",
       "      <td>-0.040882</td>\n",
       "      <td>-0.010319</td>\n",
       "      <td>-0.003728</td>\n",
       "      <td>-0.005355</td>\n",
       "      <td>0.030141</td>\n",
       "    </tr>\n",
       "    <tr>\n",
       "      <th>THIRD_SPEND</th>\n",
       "      <td>-0.080116</td>\n",
       "      <td>0.041807</td>\n",
       "      <td>-0.005871</td>\n",
       "      <td>-0.040882</td>\n",
       "      <td>1.000000</td>\n",
       "      <td>0.742184</td>\n",
       "      <td>-0.082687</td>\n",
       "      <td>-0.012941</td>\n",
       "      <td>-0.060131</td>\n",
       "    </tr>\n",
       "    <tr>\n",
       "      <th>THIRD_VISITS</th>\n",
       "      <td>-0.084643</td>\n",
       "      <td>0.015200</td>\n",
       "      <td>-0.003411</td>\n",
       "      <td>-0.010319</td>\n",
       "      <td>0.742184</td>\n",
       "      <td>1.000000</td>\n",
       "      <td>-0.076816</td>\n",
       "      <td>-0.027954</td>\n",
       "      <td>-0.063591</td>\n",
       "    </tr>\n",
       "    <tr>\n",
       "      <th>Age</th>\n",
       "      <td>0.004539</td>\n",
       "      <td>-0.039851</td>\n",
       "      <td>-0.036754</td>\n",
       "      <td>-0.003728</td>\n",
       "      <td>-0.082687</td>\n",
       "      <td>-0.076816</td>\n",
       "      <td>1.000000</td>\n",
       "      <td>-0.056998</td>\n",
       "      <td>0.109281</td>\n",
       "    </tr>\n",
       "    <tr>\n",
       "      <th>MARR_BIN</th>\n",
       "      <td>-0.079686</td>\n",
       "      <td>0.010564</td>\n",
       "      <td>-0.014763</td>\n",
       "      <td>-0.005355</td>\n",
       "      <td>-0.012941</td>\n",
       "      <td>-0.027954</td>\n",
       "      <td>-0.056998</td>\n",
       "      <td>1.000000</td>\n",
       "      <td>-0.027842</td>\n",
       "    </tr>\n",
       "    <tr>\n",
       "      <th>Income</th>\n",
       "      <td>-0.030679</td>\n",
       "      <td>-0.033596</td>\n",
       "      <td>-0.029950</td>\n",
       "      <td>0.030141</td>\n",
       "      <td>-0.060131</td>\n",
       "      <td>-0.063591</td>\n",
       "      <td>0.109281</td>\n",
       "      <td>-0.027842</td>\n",
       "      <td>1.000000</td>\n",
       "    </tr>\n",
       "  </tbody>\n",
       "</table>\n",
       "</div>"
      ],
      "text/plain": [
       "                RES_VISITS  WEB_PURCH_YN  Webstore_Spend  WEB_VISITS  \\\n",
       "RES_VISITS        1.000000      0.054807        0.294344    0.183940   \n",
       "WEB_PURCH_YN      0.054807      1.000000        0.586431    0.687501   \n",
       "Webstore_Spend    0.294344      0.586431        1.000000    0.611933   \n",
       "WEB_VISITS        0.183940      0.687501        0.611933    1.000000   \n",
       "THIRD_SPEND      -0.080116      0.041807       -0.005871   -0.040882   \n",
       "THIRD_VISITS     -0.084643      0.015200       -0.003411   -0.010319   \n",
       "Age               0.004539     -0.039851       -0.036754   -0.003728   \n",
       "MARR_BIN         -0.079686      0.010564       -0.014763   -0.005355   \n",
       "Income           -0.030679     -0.033596       -0.029950    0.030141   \n",
       "\n",
       "                THIRD_SPEND  THIRD_VISITS       Age  MARR_BIN    Income  \n",
       "RES_VISITS        -0.080116     -0.084643  0.004539 -0.079686 -0.030679  \n",
       "WEB_PURCH_YN       0.041807      0.015200 -0.039851  0.010564 -0.033596  \n",
       "Webstore_Spend    -0.005871     -0.003411 -0.036754 -0.014763 -0.029950  \n",
       "WEB_VISITS        -0.040882     -0.010319 -0.003728 -0.005355  0.030141  \n",
       "THIRD_SPEND        1.000000      0.742184 -0.082687 -0.012941 -0.060131  \n",
       "THIRD_VISITS       0.742184      1.000000 -0.076816 -0.027954 -0.063591  \n",
       "Age               -0.082687     -0.076816  1.000000 -0.056998  0.109281  \n",
       "MARR_BIN          -0.012941     -0.027954 -0.056998  1.000000 -0.027842  \n",
       "Income            -0.060131     -0.063591  0.109281 -0.027842  1.000000  "
      ]
     },
     "execution_count": 54,
     "metadata": {},
     "output_type": "execute_result"
    }
   ],
   "source": [
    "cleaned_data.corr()"
   ]
  },
  {
   "cell_type": "markdown",
   "metadata": {},
   "source": [
    "Based on 2 models and the correlation, we can conclude a few things:\n",
    "- Customer's age and income are the most important things that drives the money flow both on webstore and in restaurant.\n",
    "- Based on the correlation, the older and more income, the less money they spend. Therefore the company probably should target younger and middle-class customers.\n",
    "- Marital status does not affect customer's choice."
   ]
  }
 ],
 "metadata": {
  "kernelspec": {
   "display_name": "Python 3",
   "language": "python",
   "name": "python3"
  },
  "language_info": {
   "codemirror_mode": {
    "name": "ipython",
    "version": 3
   },
   "file_extension": ".py",
   "mimetype": "text/x-python",
   "name": "python",
   "nbconvert_exporter": "python",
   "pygments_lexer": "ipython3",
   "version": "3.8.5"
  }
 },
 "nbformat": 4,
 "nbformat_minor": 4
}
